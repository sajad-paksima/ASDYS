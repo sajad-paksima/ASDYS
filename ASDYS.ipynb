{
 "cells": [
  {
   "cell_type": "code",
   "execution_count": 1,
   "metadata": {
    "collapsed": true
   },
   "outputs": [],
   "source": [
    "from collections import deque\n",
    "import numpy as np\n",
    "from myheapq import _heapify_max, _heappop_max, _siftdown_max\n",
    "\n",
    "INFINITY = np.iinfo(np.int32).max"
   ]
  },
  {
   "cell_type": "code",
   "execution_count": 2,
   "outputs": [],
   "source": [
    "def heap_push(max_heap, item):\n",
    "    max_heap.append(item)\n",
    "    _siftdown_max(max_heap, 0, len(max_heap) - 1)\n",
    "\n",
    "def heap_pop(arr):\n",
    "    return _heappop_max(arr)  # Converts array to max_heap"
   ],
   "metadata": {
    "collapsed": false,
    "pycharm": {
     "name": "#%%\n"
    }
   }
  },
  {
   "cell_type": "code",
   "execution_count": 3,
   "outputs": [],
   "source": [
    "class Processor:\n",
    "    def __init__(self):\n",
    "        self.task_allocation_queue = deque()  # <rank_u, criticality, task number, function number, AST, AFT, processor>\n",
    "        self.avail = 0\n"
   ],
   "metadata": {
    "collapsed": false,
    "pycharm": {
     "name": "#%%\n"
    }
   }
  },
  {
   "cell_type": "code",
   "execution_count": 4,
   "outputs": [],
   "source": [
    "class Function:\n",
    "    def __init__(self, processors: list, n, criticality, communication_cost, computation_time, edges, arrival_time, deadline):\n",
    "        self.processors = processors\n",
    "        self.communication_cost = communication_cost\n",
    "        self.computation_cost = computation_time\n",
    "        self.edges = edges\n",
    "        self.task_priority_queue = []  # <rank_u, criticality, task number, function number, AST, AFT, processor>\n",
    "        self.criticality = criticality\n",
    "        self.upward_rank = np.zeros(n)\n",
    "        self.arrival_time = arrival_time\n",
    "        self.deadline = deadline\n",
    "        self.task_lower_bound = [(0, 0) for _ in range(n)]\n",
    "        self.AFT = np.zeros(n)\n",
    "        self.assigned_processor = -np.ones(n)\n",
    "        self.lower_bound = 0\n",
    "\n",
    "    def get_EFT(self, task, k):\n",
    "        max_pred_constraint = self.find_max_AFT_plus_comcost(task, k)\n",
    "        arrival = self.arrival_time if task == 0 else 0\n",
    "        start_time = max_pred_constraint + arrival\n",
    "        for task_record in processors_list[k].task_allocation_queue:\n",
    "            available_slack = task_record[5] - self.computation_cost[task_record[2]][k] - start_time\n",
    "            if available_slack >= self.computation_cost[task][k]:\n",
    "                break\n",
    "            start_time = max(task_record[5], max_pred_constraint)\n",
    "        if self.computation_cost[task][k] == INFINITY:\n",
    "            return INFINITY\n",
    "        return start_time + self.computation_cost[task][k]\n",
    "\n",
    "    def get_EST(self, task, k):\n",
    "        return max(self.processors[k].avail, self.find_max_AFT_plus_comcost(task, k)) + self.arrival_time\n",
    "\n",
    "    def find_max_AFT_plus_comcost(self, task, k):\n",
    "        candidate_max = 0\n",
    "        for pred_task in self.get_predecessor(task):\n",
    "            comcost = self.communication_cost[pred_task][task] if self.assigned_processor[pred_task] != k else 0\n",
    "            if candidate_max < self.AFT[pred_task] + comcost:\n",
    "                candidate_max = self.AFT[pred_task] + comcost\n",
    "        return candidate_max\n",
    "\n",
    "    def get_abs_deadline(self):\n",
    "        return self.arrival_time + self.deadline\n",
    "\n",
    "    def get_task_abs_deadline(self, task):\n",
    "        return self.arrival_time + self.calculate_lower_bound(task)[0] + self.get_deadline_slack()\n",
    "\n",
    "    def get_deadline_slack(self):\n",
    "        return self.deadline - self.lower_bound\n",
    "\n",
    "    def calculate_lower_bound(self, task):\n",
    "        if self.task_lower_bound[task][0] != 0:\n",
    "            return self.task_lower_bound[task]\n",
    "        if task == 0:\n",
    "            self.task_lower_bound[task] = (np.min(self.computation_cost[task]), np.argmin(self.computation_cost[task]))\n",
    "            return self.task_lower_bound[task]\n",
    "        previous_task_lower_bound = self.calculate_lower_bound(task - 1)\n",
    "        if self.communication_cost[task - 1][task] == INFINITY:\n",
    "            min_next_task = self.computation_cost[task][previous_task_lower_bound[1]]\n",
    "        else:\n",
    "            min_next_task = min(self.computation_cost[task][previous_task_lower_bound[1]], self.communication_cost[task - 1][task] + np.min(self.computation_cost[task]))\n",
    "        if min_next_task == self.computation_cost[task][previous_task_lower_bound[1]]:\n",
    "            min_processor = previous_task_lower_bound[1]\n",
    "        else:\n",
    "            min_processor = np.argmin(self.computation_cost[task])\n",
    "        self.task_lower_bound[task] = (previous_task_lower_bound[0] + min_next_task, min_processor)\n",
    "        return self.task_lower_bound[task]\n",
    "\n",
    "    def get_successor(self, task):\n",
    "        return list(np.where(self.edges[task] == 1)[0])\n",
    "\n",
    "    def get_predecessor(self, task):\n",
    "        return list(np.where(np.transpose(self.edges)[task] == 1)[0])\n",
    "\n",
    "    def get_average_computation_time(self, task):\n",
    "        avg = 0\n",
    "        count = 0\n",
    "        for wcet in self.computation_cost[task]:\n",
    "            if wcet != INFINITY:\n",
    "                avg = (avg * count + wcet) / (count + 1)\n",
    "                count += 1\n",
    "        return avg\n",
    "\n",
    "    def calculate_rank(self, task):\n",
    "        if self.upward_rank[task] != 0:\n",
    "            return self.upward_rank[task]\n",
    "\n",
    "        _max = self.find_max_successor_computation_time(task)\n",
    "\n",
    "        self.upward_rank[task] = self.get_average_computation_time(task) + _max\n",
    "        return self.upward_rank[task]\n",
    "\n",
    "    def find_max_successor_computation_time(self, task):\n",
    "        _max = 0\n",
    "        for successor_task in self.get_successor(task):\n",
    "            candidate_max = self.communication_cost[task][successor_task] + self.calculate_rank(successor_task)\n",
    "            if candidate_max > _max:\n",
    "                _max = candidate_max\n",
    "        return _max\n",
    "\n",
    "    def add_to_priority_queue(self, function_num):\n",
    "        for task_num in range(len(self.upward_rank)):\n",
    "            heap_push(self.task_priority_queue, [self.upward_rank[task_num], self.criticality, task_num, function_num, None, None, None])\n",
    "            # self.task_priority_queue.put((self.upward_rank[task_num], self.criticality, task_num, function_num))\n",
    "\n",
    "    @staticmethod\n",
    "    def get_n_max(criticality_slack):\n",
    "        return criticality_slack + 1"
   ],
   "metadata": {
    "collapsed": false,
    "pycharm": {
     "name": "#%%\n"
    }
   }
  },
  {
   "cell_type": "code",
   "execution_count": 5,
   "outputs": [],
   "source": [
    "class MS:\n",
    "    def __init__(self, functions: list, criticality):\n",
    "        self.functions = functions\n",
    "        self.common_ready_queue = []  # <rank_u, criticality, task number, function number, AST, AFT, processor>\n",
    "        self.criticality = criticality\n",
    "\n",
    "        function_num = 0\n",
    "        for function in functions:\n",
    "            self.add_function(function, function_num)\n",
    "            function_num += 1\n",
    "\n",
    "    def add_function(self, function, function_num):\n",
    "        function.calculate_rank(0)\n",
    "        function.add_to_priority_queue(function_num)\n",
    "        function.calculate_lower_bound(len(function.upward_rank) - 1)\n",
    "        function.lower_bound = max(lower_bound[0] for lower_bound in function.task_lower_bound)\n",
    "        self.functions.append(function)\n",
    "\n",
    "    def is_fd_empty(self, fd):\n",
    "        for common_ready_record in self.common_ready_queue:\n",
    "            if common_ready_record[3] == fd:\n",
    "                return False\n",
    "        return len(self.functions[fd].task_priority_queue) == 0\n",
    "\n"
   ],
   "metadata": {
    "collapsed": false,
    "pycharm": {
     "name": "#%%\n"
    }
   }
  },
  {
   "cell_type": "code",
   "execution_count": 6,
   "outputs": [],
   "source": [
    "class Node:\n",
    "    def __init__(self, index, predecessor=None, successor=None):\n",
    "        self.predecessor = predecessor\n",
    "        self.successor = successor\n",
    "        self.index = index\n",
    "\n",
    "def find_successor(node: Node):\n",
    "    return [success_node.index for success_node in node.successor]"
   ],
   "metadata": {
    "collapsed": false,
    "pycharm": {
     "name": "#%%\n"
    }
   }
  },
  {
   "cell_type": "code",
   "execution_count": 7,
   "outputs": [],
   "source": [
    "########### gaussian elimination algorithm (ignore setting predecessor) ############\n",
    "def create_gaussian_elimination_task_graph(n):\n",
    "    edges = np.zeros(((n + 2) * (n - 1) // 2, (n + 2) * (n - 1) // 2))\n",
    "    nodes = []\n",
    "    nodes.append(Node(index=0, predecessor=[], successor=[]))\n",
    "    for i in range(1, n):\n",
    "        nodes.append(Node(index=i, predecessor=[], successor=[]))\n",
    "    nodes[0].successor.extend(nodes[1:n])\n",
    "    for i in range(n - 1, 1, -1):\n",
    "        candidate_nodes = nodes[-i:]\n",
    "        for nod in candidate_nodes:\n",
    "            nodes.append(Node(index=nod.index + i, predecessor=[], successor=[]))\n",
    "            nod.successor.extend([nodes[nod.index + i]])\n",
    "        nodes[-i].successor.extend(nodes[-i+1:])\n",
    "    for i in range((n + 2) * (n - 1) // 2):\n",
    "        successors_list = find_successor(nodes[i])\n",
    "        for j in successors_list:\n",
    "            edges[i][j] = 1\n",
    "    return edges"
   ],
   "metadata": {
    "collapsed": false,
    "pycharm": {
     "name": "#%%\n"
    }
   }
  },
  {
   "cell_type": "code",
   "execution_count": 8,
   "outputs": [],
   "source": [
    "########### fast fourier transform algorithm (ignore setting predecessor) ############\n",
    "def create_FFT_task_graph(n):\n",
    "    edges = np.zeros((int(2 * n - 1 + n * np.log2(n)), int(2 * n - 1 + n * np.log2(n))))\n",
    "    nodes = []\n",
    "    nodes.append(Node(index=0, predecessor=[], successor=[]))\n",
    "    for i in range(1, 2 * n - 1):\n",
    "        nodes.append(Node(index=i, predecessor=[nodes[int((i - 0.5) // 2)]], successor=[]))\n",
    "    for i in range(n - 1):\n",
    "        nodes[i].successor.extend(nodes[2 * i + 1:2 * i + 3])\n",
    "    for i in range(2 * n - 1, int(2 * n - 1 + n * np.log2(n))):\n",
    "        nodes.append(Node(index=i, predecessor=[], successor=[]))\n",
    "    d = 1\n",
    "    index = n - 1\n",
    "    while d < n:\n",
    "        for i in range(0, n // d):\n",
    "            if i % 2 == 0:\n",
    "                for j in range(index + i * d, index + i * d + d):\n",
    "                    nodes[j].successor.extend([nodes[j + n], nodes[j + n + d]])\n",
    "            else:\n",
    "                for j in range(index + i * d, index + i * d + d):\n",
    "                    nodes[j].successor.extend([nodes[j + n], nodes[j + n - d]])\n",
    "        index += n\n",
    "        d *= 2\n",
    "    for i in range(int(2 * n - 1 + n * np.log2(n))):\n",
    "        successors_list = find_successor(nodes[i])\n",
    "        for j in successors_list:\n",
    "            edges[i][j] = 1\n",
    "    return edges"
   ],
   "metadata": {
    "collapsed": false,
    "pycharm": {
     "name": "#%%\n"
    }
   }
  },
  {
   "cell_type": "code",
   "execution_count": null,
   "outputs": [],
   "source": [
    "edges_1 = create_gaussian_elimination_task_graph(n=5)\n",
    "print(edges_1)"
   ],
   "metadata": {
    "collapsed": false,
    "pycharm": {
     "name": "#%%\n"
    }
   }
  },
  {
   "cell_type": "code",
   "execution_count": null,
   "outputs": [],
   "source": [
    "edges_2 = create_FFT_task_graph(n=4)\n",
    "print(edges_2)"
   ],
   "metadata": {
    "collapsed": false,
    "pycharm": {
     "name": "#%%\n"
    }
   }
  },
  {
   "cell_type": "code",
   "execution_count": 9,
   "outputs": [],
   "source": [
    "communication_cost_1 = np.array([[0, 10, 2, 7, INFINITY, INFINITY, INFINITY],\n",
    "                                 [10, 0, INFINITY, INFINITY, 5, 6, INFINITY],\n",
    "                                 [2, INFINITY, 0, INFINITY, 6, 9, INFINITY],\n",
    "                                 [7, INFINITY, INFINITY, 0, INFINITY, 4, INFINITY],\n",
    "                                 [INFINITY, 5, 6, INFINITY, 0, INFINITY, 2],\n",
    "                                 [INFINITY, 6, 9, 4, INFINITY, 0, 7],\n",
    "                                 [INFINITY, INFINITY, INFINITY, INFINITY, 2, 7, 0]])\n",
    "computation_cost_1 = np.array([[18, 5, 11],\n",
    "                               [5, 12, 20],\n",
    "                               [23, 20, 20],\n",
    "                               [13, 19, 11],\n",
    "                               [5, 9, 19],\n",
    "                               [15, 22, 19],\n",
    "                               [11, 19, 24]])\n",
    "edges_1 = np.array([[0, 1, 1, 1, 0, 0, 0],\n",
    "                    [0, 0, 0, 0, 1, 1, 0],\n",
    "                    [0, 0, 0, 0, 1, 1, 0],\n",
    "                    [0, 0, 0, 0, 0, 1, 0],\n",
    "                    [0, 0, 0, 0, 0, 0, 1],\n",
    "                    [0, 0, 0, 0, 0, 0, 1],\n",
    "                    [0, 0, 0, 0, 0, 0, 0]])\n"
   ],
   "metadata": {
    "collapsed": false,
    "pycharm": {
     "name": "#%%\n"
    }
   }
  },
  {
   "cell_type": "code",
   "execution_count": 10,
   "outputs": [],
   "source": [
    "communication_cost_2 = np.array([[0, 8, 2, INFINITY, INFINITY],\n",
    "                                [8, 0, INFINITY, 6, 7],\n",
    "                                [2, INFINITY, 0, INFINITY, 4],\n",
    "                                [INFINITY, 6, INFINITY, 0, INFINITY],\n",
    "                                 [INFINITY, 7, 4, INFINITY, 0]])\n",
    "computation_cost_2 = np.array([[22, 7, 7],\n",
    "                               [24, 23, 12],\n",
    "                               [9, 10, 9],\n",
    "                               [19, 22, 23],\n",
    "                               [5, 7, 21]])\n",
    "edges_2 = np.array([[0, 1, 1, 0, 0],\n",
    "                    [0, 0, 0, 1, 1],\n",
    "                    [0, 0, 0, 0, 1],\n",
    "                    [0, 0, 0, 0, 0],\n",
    "                    [0, 0, 0, 0, 0]])\n"
   ],
   "metadata": {
    "collapsed": false,
    "pycharm": {
     "name": "#%%\n"
    }
   }
  },
  {
   "cell_type": "code",
   "execution_count": 11,
   "outputs": [],
   "source": [
    "communication_cost_3 = np.array([[0, 4, 8, INFINITY, INFINITY, INFINITY, INFINITY],\n",
    "                                [4, 0, INFINITY, 2, 4, 9, INFINITY],\n",
    "                                [8, INFINITY, 0, INFINITY, 8, 8, INFINITY],\n",
    "                                 [INFINITY, 2, INFINITY, 0, INFINITY, INFINITY, 3],\n",
    "                                 [INFINITY, 4, 8, INFINITY, 0, INFINITY, 7],\n",
    "                                 [INFINITY, 9, 8, INFINITY, INFINITY, 0, 5],\n",
    "                                 [INFINITY, INFINITY, INFINITY, 3, 7, 5, 0]])\n",
    "computation_cost_3 = np.array([[6, 16, 23],\n",
    "                              [13, 13, 5],\n",
    "                              [17, 14, 15],\n",
    "                               [13, 14, 9],\n",
    "                               [15, 19, 23],\n",
    "                               [9, 23, 13],\n",
    "                               [18, 21, 19]])\n",
    "edges_3 = np.array([[0, 1, 1, 0, 0, 0, 0],\n",
    "                    [0, 0, 0, 1, 1, 1, 0],\n",
    "                    [0, 0, 0, 0, 1, 1, 0],\n",
    "                    [0, 0, 0, 0, 0, 0, 1],\n",
    "                    [0, 0, 0, 0, 0, 0, 1],\n",
    "                    [0, 0, 0, 0, 0, 0, 1],\n",
    "                    [0, 0, 0, 0, 0, 0, 0]])\n"
   ],
   "metadata": {
    "collapsed": false,
    "pycharm": {
     "name": "#%%\n"
    }
   }
  },
  {
   "cell_type": "code",
   "execution_count": 37,
   "outputs": [],
   "source": [
    "communication_cost_4 = np.array([[0, 2, 11],\n",
    "                                [2, 0, 2],\n",
    "                                [11, 2, 0]])\n",
    "computation_cost_4 = np.array([[8, 13, 18],\n",
    "                              [20, 7, 11],\n",
    "                              [20, 15, 8]])\n",
    "edges_4 = np.array([[0, 1, 1],\n",
    "                    [0, 0, 1],\n",
    "                    [0, 0, 0]])\n"
   ],
   "metadata": {
    "collapsed": false,
    "pycharm": {
     "name": "#%%\n"
    }
   }
  },
  {
   "cell_type": "code",
   "execution_count": 12,
   "outputs": [],
   "source": [
    "# ms = MS(functions=[], criticality=0)\n",
    "# processor_1 = Processor()\n",
    "# processor_2 = Processor()\n",
    "# processor_3 = Processor()\n",
    "# processors_list = [processor_1, processor_2, processor_3]\n",
    "#\n",
    "# function_3 = Function(processors_list, n=3, criticality=1, communication_cost=communication_cost_3,\n",
    "#                       computation_time=computation_cost_3, edges=edges_3, arrival_time=10, deadline=46)\n",
    "# ms.add_function(function_1, 0)\n",
    "# ms.add_function(function_3, 2)\n",
    "# ms.add_function(function_4, 3)\n",
    "#\n",
    "# print(function_1.task_priority_queue)\n",
    "# print(function_4.upward_rank)\n",
    "\n",
    "\n",
    "# print(function_1.communication_cost[0][1])\n",
    "# print(function_1.task_lower_bound)\n",
    "# print(function_2.task_lower_bound)\n",
    "# print(function_3.lower_bound)\n",
    "# print(function_2.get_task_abs_deadline(0))\n",
    "# print(function_1.get_predecessor(2))\n",
    "# np.min(function_1.computation_cost[1])\n",
    "# while function_1.task_priority_queue:\n",
    "#     print(heap_pop(function_1.task_priority_queue))"
   ],
   "metadata": {
    "collapsed": false,
    "pycharm": {
     "name": "#%%\n"
    }
   }
  },
  {
   "cell_type": "code",
   "execution_count": 13,
   "outputs": [],
   "source": [
    "def task_priority_queues_is_empty(total_system: MS):\n",
    "    for func in total_system.functions:\n",
    "        if len(func.task_priority_queue) != 0:\n",
    "            return False\n",
    "    return True"
   ],
   "metadata": {
    "collapsed": false,
    "pycharm": {
     "name": "#%%\n"
    }
   }
  },
  {
   "cell_type": "code",
   "execution_count": 14,
   "outputs": [],
   "source": [
    "# def remove_back_to_task_priority_queues(task_set: list):\n",
    "#     while len(task_set) != 0:\n",
    "#         popped_record = task_set.pop()\n",
    "#         function_num = popped_record[3]\n",
    "#         heap_push(functions_list[function_num].task_priority_queue, popped_record)\n"
   ],
   "metadata": {
    "collapsed": false,
    "pycharm": {
     "name": "#%%\n"
    }
   }
  },
  {
   "cell_type": "code",
   "execution_count": 15,
   "outputs": [],
   "source": [
    "f_d = -1\n",
    "previous_round = []\n",
    "current_round = []\n",
    "system_time = 0\n",
    "step = 5\n",
    "\n",
    "processor_1 = Processor()\n",
    "processor_2 = Processor()\n",
    "processor_3 = Processor()\n",
    "processors_list = [processor_1, processor_2, processor_3]\n",
    "\n",
    "function_1 = Function(processors_list, n=len(edges_1), criticality=0, communication_cost=communication_cost_1,\n",
    "                      computation_time=computation_cost_1, edges=edges_1, arrival_time=0, deadline=100)\n",
    "function_2 = Function(processors_list, n=len(edges_2), criticality=1, communication_cost=communication_cost_2,\n",
    "                      computation_time=computation_cost_2, edges=edges_2, arrival_time=25, deadline=125)\n",
    "function_3 = Function(processors_list, n=len(edges_3), criticality=2, communication_cost=communication_cost_3,\n",
    "                      computation_time=computation_cost_3, edges=edges_3, arrival_time=50, deadline=150)\n",
    "# function_4 = Function(processors_list, n=3, criticality=2, communication_cost=communication_cost_4,\n",
    "#                       computation_time=computation_cost_4, edges=edges_4, arrival_time=20, deadline=34)\n",
    "functions_list = [function_1, function_2, function_3]\n",
    "ms = MS(functions=[], criticality=0)"
   ],
   "metadata": {
    "collapsed": false,
    "pycharm": {
     "name": "#%%\n"
    }
   }
  },
  {
   "cell_type": "code",
   "execution_count": 16,
   "outputs": [
    {
     "data": {
      "text/plain": "True"
     },
     "execution_count": 16,
     "metadata": {},
     "output_type": "execute_result"
    }
   ],
   "source": [
    "task_priority_queues_is_empty(ms)"
   ],
   "metadata": {
    "collapsed": false,
    "pycharm": {
     "name": "#%%\n"
    }
   }
  },
  {
   "cell_type": "code",
   "execution_count": 17,
   "outputs": [],
   "source": [
    "def find_new_arrived_functions(functions_list):\n",
    "    global system_time, step\n",
    "    new_arrived_functions = []\n",
    "    for function_record in functions_list:\n",
    "        if 0 <= system_time - function_record.arrival_time < step:\n",
    "            new_arrived_functions.append(function_record)\n",
    "    return new_arrived_functions"
   ],
   "metadata": {
    "collapsed": false,
    "pycharm": {
     "name": "#%%\n"
    }
   }
  },
  {
   "cell_type": "code",
   "execution_count": 18,
   "outputs": [],
   "source": [
    "def has_lower_criticality_tasks(max_criticality, processor_list: list):\n",
    "    for pr in processor_list:\n",
    "        pr: Processor\n",
    "        for item in pr.task_allocation_queue:\n",
    "            if item[1] < max_criticality:\n",
    "                return True\n",
    "    return False"
   ],
   "metadata": {
    "collapsed": false,
    "pycharm": {
     "name": "#%%\n"
    }
   }
  },
  {
   "cell_type": "code",
   "execution_count": 19,
   "outputs": [
    {
     "name": "stdout",
     "output_type": "stream",
     "text": [
      "Time is 0\n",
      "Added new function with computation_cost [[18  5 11]\n",
      " [ 5 12 20]\n",
      " [23 20 20]\n",
      " [13 19 11]\n",
      " [ 5  9 19]\n",
      " [15 22 19]\n",
      " [11 19 24]]\n",
      "pop task priority queue: [87.0, 0, 0, 0, None, None, None]\n",
      "ms.common_ready_queue: [[0, 87.0, 0, 0, None, None, None]]\n",
      "trying to assign common_ready_queue record [87.0, 0, 0, 0, None, None, None] to processor 1function_number 0, task_number 0, min_EFT 5, suitable_processor 1\n",
      "successfully assign common_ready_queue record [87.0, 0, 0, 0, 0, 5, 1] to processor 1\n",
      "pop task priority queue: [73.66666666666667, 0, 2, 0, None, None, None]\n",
      "ms.common_ready_queue: [[0, 73.66666666666667, 2, 0, None, None, None]]\n",
      "trying to assign common_ready_queue record [73.66666666666667, 0, 2, 0, None, None, None] to processor 1function_number 0, task_number 2, min_EFT 25, suitable_processor 1\n",
      "successfully assign common_ready_queue record [73.66666666666667, 0, 2, 0, 5, 25, 1] to processor 1\n",
      "pop task priority queue: [62.00000000000001, 0, 3, 0, None, None, None]\n",
      "ms.common_ready_queue: [[0, 62.00000000000001, 3, 0, None, None, None]]\n",
      "trying to assign common_ready_queue record [62.00000000000001, 0, 3, 0, None, None, None] to processor 2function_number 0, task_number 3, min_EFT 23.0, suitable_processor 2\n",
      "successfully assign common_ready_queue record [62.00000000000001, 0, 3, 0, 12.0, 23.0, 2] to processor 2\n",
      "pop task priority queue: [62.00000000000001, 0, 1, 0, None, None, None]\n",
      "ms.common_ready_queue: [[0, 62.00000000000001, 1, 0, None, None, None]]\n",
      "trying to assign common_ready_queue record [62.00000000000001, 0, 1, 0, None, None, None] to processor 0function_number 0, task_number 1, min_EFT 20.0, suitable_processor 0\n",
      "successfully assign common_ready_queue record [62.00000000000001, 0, 1, 0, 15.0, 20.0, 0] to processor 0\n",
      "pop task priority queue: [43.66666666666667, 0, 5, 0, None, None, None]\n",
      "ms.common_ready_queue: [[0, 43.66666666666667, 5, 0, None, None, None]]\n",
      "trying to assign common_ready_queue record [43.66666666666667, 0, 5, 0, None, None, None] to processor 0function_number 0, task_number 5, min_EFT 49.0, suitable_processor 0\n",
      "successfully assign common_ready_queue record [43.66666666666667, 0, 5, 0, 34.0, 49.0, 0] to processor 0\n",
      "pop task priority queue: [31.0, 0, 4, 0, None, None, None]\n",
      "ms.common_ready_queue: [[0, 31.0, 4, 0, None, None, None]]\n",
      "trying to assign common_ready_queue record [31.0, 0, 4, 0, None, None, None] to processor 1function_number 0, task_number 4, min_EFT 34, suitable_processor 1\n",
      "successfully assign common_ready_queue record [31.0, 0, 4, 0, 25, 34, 1] to processor 1\n",
      "pop task priority queue: [18.0, 0, 6, 0, None, None, None]\n",
      "ms.common_ready_queue: [[0, 18.0, 6, 0, None, None, None]]\n",
      "trying to assign common_ready_queue record [18.0, 0, 6, 0, None, None, None] to processor 0function_number 0, task_number 6, min_EFT 60.0, suitable_processor 0\n",
      "successfully assign common_ready_queue record [18.0, 0, 6, 0, 49.0, 60.0, 0] to processor 0\n",
      "function -1 which cause system criticality to rise is finished\n",
      "Time is 5\n",
      "Time is 10\n",
      "Time is 15\n",
      "Time is 20\n",
      "Time is 25\n",
      "Added new function with computation_cost [[22  7  7]\n",
      " [24 23 12]\n",
      " [ 9 10  9]\n",
      " [19 22 23]\n",
      " [ 5  7 21]]\n",
      "processor task_allocation_queue is:\n",
      "deque([[62.00000000000001, 0, 1, 0, 15.0, 20.0, 0], [43.66666666666667, 0, 5, 0, 34.0, 49.0, 0], [18.0, 0, 6, 0, 49.0, 60.0, 0]])\n",
      "candidate items from task_allocation_queue of processor 0 to be removed is:\n",
      "[[43.66666666666667, 0, 5, 0, 34.0, 49.0, 0], [18.0, 0, 6, 0, 49.0, 60.0, 0]]\n",
      "final processor task_allocation_queue is:\n",
      "deque([[62.00000000000001, 0, 1, 0, 15.0, 20.0, 0]])\n",
      "processor task_allocation_queue is:\n",
      "deque([[87.0, 0, 0, 0, 0, 5, 1], [73.66666666666667, 0, 2, 0, 5, 25, 1], [31.0, 0, 4, 0, 25, 34, 1]])\n",
      "candidate items from task_allocation_queue of processor 1 to be removed is:\n",
      "[[31.0, 0, 4, 0, 25, 34, 1]]\n",
      "final processor task_allocation_queue is:\n",
      "deque([[87.0, 0, 0, 0, 0, 5, 1], [73.66666666666667, 0, 2, 0, 5, 25, 1]])\n",
      "processor task_allocation_queue is:\n",
      "deque([[62.00000000000001, 0, 3, 0, 12.0, 23.0, 2]])\n",
      "candidate items from task_allocation_queue of processor 2 to be removed is:\n",
      "[]\n",
      "final processor task_allocation_queue is:\n",
      "deque([[62.00000000000001, 0, 3, 0, 12.0, 23.0, 2]])\n",
      "pop task priority queue: [43.66666666666667, 0, 5, 0, None, None, None]\n",
      "ms.common_ready_queue: [[0, 43.66666666666667, 5, 0, None, None, None]]\n",
      "pop task priority queue: [67.0, 1, 0, 1, None, None, None]\n",
      "ms.common_ready_queue: [[1, 67.0, 0, 1, None, None, None], [0, 43.66666666666667, 5, 0, None, None, None]]\n",
      "pop task priority queue: [47.0, 1, 1, 1, None, None, None]\n",
      "ms.common_ready_queue: [[1, 67.0, 0, 1, None, None, None], [0, 43.66666666666667, 5, 0, None, None, None], [1, 47.0, 1, 1, None, None, None]]\n",
      "trying to assign common_ready_queue record [67.0, 1, 0, 1, None, None, None] to processor 1function_number 1, task_number 0, min_EFT 12, suitable_processor 1\n"
     ]
    },
    {
     "ename": "KeyboardInterrupt",
     "evalue": "",
     "output_type": "error",
     "traceback": [
      "\u001B[1;31m---------------------------------------------------------------------------\u001B[0m",
      "\u001B[1;31mKeyboardInterrupt\u001B[0m                         Traceback (most recent call last)",
      "\u001B[1;32m~\\AppData\\Local\\Temp/ipykernel_1300/3567677067.py\u001B[0m in \u001B[0;36m<module>\u001B[1;34m\u001B[0m\n\u001B[0;32m     65\u001B[0m             print(f'trying to assign common_ready_queue record {tuple_record} to processor {suitable_processor}'\n\u001B[0;32m     66\u001B[0m                   f'function_number {function_num}, task_number {task_num}, min_EFT {min_EFT}, suitable_processor {suitable_processor}')\n\u001B[1;32m---> 67\u001B[1;33m             \u001B[1;32mif\u001B[0m \u001B[0mmin_EFT\u001B[0m \u001B[1;33m>\u001B[0m \u001B[0mms\u001B[0m\u001B[1;33m.\u001B[0m\u001B[0mfunctions\u001B[0m\u001B[1;33m[\u001B[0m\u001B[0mfunction_num\u001B[0m\u001B[1;33m]\u001B[0m\u001B[1;33m.\u001B[0m\u001B[0mget_task_abs_deadline\u001B[0m\u001B[1;33m(\u001B[0m\u001B[0mtask_num\u001B[0m\u001B[1;33m)\u001B[0m \u001B[1;32mand\u001B[0m \u001B[0mms\u001B[0m\u001B[1;33m.\u001B[0m\u001B[0mfunctions\u001B[0m\u001B[1;33m[\u001B[0m\u001B[0mfunction_num\u001B[0m\u001B[1;33m]\u001B[0m\u001B[1;33m.\u001B[0m\u001B[0mcriticality\u001B[0m \u001B[1;33m>\u001B[0m \u001B[0mms\u001B[0m\u001B[1;33m.\u001B[0m\u001B[0mcriticality\u001B[0m\u001B[1;33m:\u001B[0m\u001B[1;33m\u001B[0m\u001B[1;33m\u001B[0m\u001B[0m\n\u001B[0m\u001B[0;32m     68\u001B[0m                 \u001B[0mms\u001B[0m\u001B[1;33m.\u001B[0m\u001B[0mcriticality\u001B[0m \u001B[1;33m=\u001B[0m \u001B[0mms\u001B[0m\u001B[1;33m.\u001B[0m\u001B[0mfunctions\u001B[0m\u001B[1;33m[\u001B[0m\u001B[0mfunction_num\u001B[0m\u001B[1;33m]\u001B[0m\u001B[1;33m.\u001B[0m\u001B[0mcriticality\u001B[0m\u001B[1;33m\u001B[0m\u001B[1;33m\u001B[0m\u001B[0m\n\u001B[0;32m     69\u001B[0m                 \u001B[0mf_d\u001B[0m \u001B[1;33m=\u001B[0m \u001B[0mfunction_num\u001B[0m\u001B[1;33m\u001B[0m\u001B[1;33m\u001B[0m\u001B[0m\n",
      "\u001B[1;32m~\\AppData\\Local\\Temp/ipykernel_1300/3567677067.py\u001B[0m in \u001B[0;36m<module>\u001B[1;34m\u001B[0m\n\u001B[0;32m     65\u001B[0m             print(f'trying to assign common_ready_queue record {tuple_record} to processor {suitable_processor}'\n\u001B[0;32m     66\u001B[0m                   f'function_number {function_num}, task_number {task_num}, min_EFT {min_EFT}, suitable_processor {suitable_processor}')\n\u001B[1;32m---> 67\u001B[1;33m             \u001B[1;32mif\u001B[0m \u001B[0mmin_EFT\u001B[0m \u001B[1;33m>\u001B[0m \u001B[0mms\u001B[0m\u001B[1;33m.\u001B[0m\u001B[0mfunctions\u001B[0m\u001B[1;33m[\u001B[0m\u001B[0mfunction_num\u001B[0m\u001B[1;33m]\u001B[0m\u001B[1;33m.\u001B[0m\u001B[0mget_task_abs_deadline\u001B[0m\u001B[1;33m(\u001B[0m\u001B[0mtask_num\u001B[0m\u001B[1;33m)\u001B[0m \u001B[1;32mand\u001B[0m \u001B[0mms\u001B[0m\u001B[1;33m.\u001B[0m\u001B[0mfunctions\u001B[0m\u001B[1;33m[\u001B[0m\u001B[0mfunction_num\u001B[0m\u001B[1;33m]\u001B[0m\u001B[1;33m.\u001B[0m\u001B[0mcriticality\u001B[0m \u001B[1;33m>\u001B[0m \u001B[0mms\u001B[0m\u001B[1;33m.\u001B[0m\u001B[0mcriticality\u001B[0m\u001B[1;33m:\u001B[0m\u001B[1;33m\u001B[0m\u001B[1;33m\u001B[0m\u001B[0m\n\u001B[0m\u001B[0;32m     68\u001B[0m                 \u001B[0mms\u001B[0m\u001B[1;33m.\u001B[0m\u001B[0mcriticality\u001B[0m \u001B[1;33m=\u001B[0m \u001B[0mms\u001B[0m\u001B[1;33m.\u001B[0m\u001B[0mfunctions\u001B[0m\u001B[1;33m[\u001B[0m\u001B[0mfunction_num\u001B[0m\u001B[1;33m]\u001B[0m\u001B[1;33m.\u001B[0m\u001B[0mcriticality\u001B[0m\u001B[1;33m\u001B[0m\u001B[1;33m\u001B[0m\u001B[0m\n\u001B[0;32m     69\u001B[0m                 \u001B[0mf_d\u001B[0m \u001B[1;33m=\u001B[0m \u001B[0mfunction_num\u001B[0m\u001B[1;33m\u001B[0m\u001B[1;33m\u001B[0m\u001B[0m\n",
      "\u001B[1;32m_pydevd_bundle\\pydevd_cython_win32_39_64.pyx\u001B[0m in \u001B[0;36m_pydevd_bundle.pydevd_cython_win32_39_64.SafeCallWrapper.__call__\u001B[1;34m()\u001B[0m\n",
      "\u001B[1;32m_pydevd_bundle\\pydevd_cython_win32_39_64.pyx\u001B[0m in \u001B[0;36m_pydevd_bundle.pydevd_cython_win32_39_64.PyDBFrame.trace_dispatch\u001B[1;34m()\u001B[0m\n",
      "\u001B[1;32m_pydevd_bundle\\pydevd_cython_win32_39_64.pyx\u001B[0m in \u001B[0;36m_pydevd_bundle.pydevd_cython_win32_39_64.PyDBFrame.trace_dispatch\u001B[1;34m()\u001B[0m\n",
      "\u001B[1;32m_pydevd_bundle\\pydevd_cython_win32_39_64.pyx\u001B[0m in \u001B[0;36m_pydevd_bundle.pydevd_cython_win32_39_64.PyDBFrame.trace_dispatch\u001B[1;34m()\u001B[0m\n",
      "\u001B[1;32m_pydevd_bundle\\pydevd_cython_win32_39_64.pyx\u001B[0m in \u001B[0;36m_pydevd_bundle.pydevd_cython_win32_39_64.PyDBFrame.do_wait_suspend\u001B[1;34m()\u001B[0m\n",
      "\u001B[1;32mE:\\ProgramFiles\\JetBrains\\PyCharm 2021.3.2\\plugins\\python\\helpers\\pydev\\pydevd.py\u001B[0m in \u001B[0;36mdo_wait_suspend\u001B[1;34m(self, thread, frame, event, arg, send_suspend_message, is_unhandled_exception)\u001B[0m\n\u001B[0;32m   1145\u001B[0m \u001B[1;33m\u001B[0m\u001B[0m\n\u001B[0;32m   1146\u001B[0m         \u001B[1;32mwith\u001B[0m \u001B[0mself\u001B[0m\u001B[1;33m.\u001B[0m\u001B[0m_threads_suspended_single_notification\u001B[0m\u001B[1;33m.\u001B[0m\u001B[0mnotify_thread_suspended\u001B[0m\u001B[1;33m(\u001B[0m\u001B[0mthread_id\u001B[0m\u001B[1;33m,\u001B[0m \u001B[0mstop_reason\u001B[0m\u001B[1;33m)\u001B[0m\u001B[1;33m:\u001B[0m\u001B[1;33m\u001B[0m\u001B[1;33m\u001B[0m\u001B[0m\n\u001B[1;32m-> 1147\u001B[1;33m             \u001B[0mself\u001B[0m\u001B[1;33m.\u001B[0m\u001B[0m_do_wait_suspend\u001B[0m\u001B[1;33m(\u001B[0m\u001B[0mthread\u001B[0m\u001B[1;33m,\u001B[0m \u001B[0mframe\u001B[0m\u001B[1;33m,\u001B[0m \u001B[0mevent\u001B[0m\u001B[1;33m,\u001B[0m \u001B[0marg\u001B[0m\u001B[1;33m,\u001B[0m \u001B[0msuspend_type\u001B[0m\u001B[1;33m,\u001B[0m \u001B[0mfrom_this_thread\u001B[0m\u001B[1;33m)\u001B[0m\u001B[1;33m\u001B[0m\u001B[1;33m\u001B[0m\u001B[0m\n\u001B[0m\u001B[0;32m   1148\u001B[0m \u001B[1;33m\u001B[0m\u001B[0m\n\u001B[0;32m   1149\u001B[0m     \u001B[1;32mdef\u001B[0m \u001B[0m_do_wait_suspend\u001B[0m\u001B[1;33m(\u001B[0m\u001B[0mself\u001B[0m\u001B[1;33m,\u001B[0m \u001B[0mthread\u001B[0m\u001B[1;33m,\u001B[0m \u001B[0mframe\u001B[0m\u001B[1;33m,\u001B[0m \u001B[0mevent\u001B[0m\u001B[1;33m,\u001B[0m \u001B[0marg\u001B[0m\u001B[1;33m,\u001B[0m \u001B[0msuspend_type\u001B[0m\u001B[1;33m,\u001B[0m \u001B[0mfrom_this_thread\u001B[0m\u001B[1;33m)\u001B[0m\u001B[1;33m:\u001B[0m\u001B[1;33m\u001B[0m\u001B[1;33m\u001B[0m\u001B[0m\n",
      "\u001B[1;32mE:\\ProgramFiles\\JetBrains\\PyCharm 2021.3.2\\plugins\\python\\helpers\\pydev\\pydevd.py\u001B[0m in \u001B[0;36m_do_wait_suspend\u001B[1;34m(self, thread, frame, event, arg, suspend_type, from_this_thread)\u001B[0m\n\u001B[0;32m   1160\u001B[0m \u001B[1;33m\u001B[0m\u001B[0m\n\u001B[0;32m   1161\u001B[0m                 \u001B[0mself\u001B[0m\u001B[1;33m.\u001B[0m\u001B[0mprocess_internal_commands\u001B[0m\u001B[1;33m(\u001B[0m\u001B[1;33m)\u001B[0m\u001B[1;33m\u001B[0m\u001B[1;33m\u001B[0m\u001B[0m\n\u001B[1;32m-> 1162\u001B[1;33m                 \u001B[0mtime\u001B[0m\u001B[1;33m.\u001B[0m\u001B[0msleep\u001B[0m\u001B[1;33m(\u001B[0m\u001B[1;36m0.01\u001B[0m\u001B[1;33m)\u001B[0m\u001B[1;33m\u001B[0m\u001B[1;33m\u001B[0m\u001B[0m\n\u001B[0m\u001B[0;32m   1163\u001B[0m \u001B[1;33m\u001B[0m\u001B[0m\n\u001B[0;32m   1164\u001B[0m         \u001B[0mself\u001B[0m\u001B[1;33m.\u001B[0m\u001B[0mcancel_async_evaluation\u001B[0m\u001B[1;33m(\u001B[0m\u001B[0mget_current_thread_id\u001B[0m\u001B[1;33m(\u001B[0m\u001B[0mthread\u001B[0m\u001B[1;33m)\u001B[0m\u001B[1;33m,\u001B[0m \u001B[0mstr\u001B[0m\u001B[1;33m(\u001B[0m\u001B[0mid\u001B[0m\u001B[1;33m(\u001B[0m\u001B[0mframe\u001B[0m\u001B[1;33m)\u001B[0m\u001B[1;33m)\u001B[0m\u001B[1;33m)\u001B[0m\u001B[1;33m\u001B[0m\u001B[1;33m\u001B[0m\u001B[0m\n",
      "\u001B[1;31mKeyboardInterrupt\u001B[0m: "
     ]
    }
   ],
   "source": [
    "while True:\n",
    "    print(f'Time is {system_time}')\n",
    "\n",
    "############# handle new function ###############\n",
    "\n",
    "    new_arrived_function = find_new_arrived_functions(functions_list)\n",
    "    for function_obj in new_arrived_function:\n",
    "        print(f\"Added new function with computation_cost {function_obj.computation_cost}\")\n",
    "        ms.add_function(function_obj, functions_list.index(function_obj))\n",
    "\n",
    "############# remove lower critical tasks from task_allocation_queue and common ready queue #############\n",
    "\n",
    "    if len(new_arrived_function) != 0:\n",
    "        max_criticality_in_new_arrived_function = max([func.criticality for func in new_arrived_function])\n",
    "        if has_lower_criticality_tasks(max_criticality_in_new_arrived_function, processors_list):\n",
    "            for pr in processors_list:\n",
    "                pr: Processor\n",
    "                print(f\"processor task_allocation_queue is:\\n\"\n",
    "                      f\"{pr.task_allocation_queue}\")\n",
    "                candidate_items = [task for task in pr.task_allocation_queue if task[1] < max_criticality_in_new_arrived_function and task[4] >= system_time]\n",
    "                print(f\"candidate items from task_allocation_queue of processor {processors_list.index(pr)} to be removed is:\\n\"\n",
    "                      f\"{candidate_items}\")\n",
    "                for item in candidate_items:\n",
    "                    pr.task_allocation_queue.remove(item)\n",
    "                    item[4], item[5], item[6] = None, None, None\n",
    "                    ms.functions[item[3]].AFT[item[2]] = None\n",
    "                    ms.functions[item[3]].assigned_processor[item[2]] = -1\n",
    "                    heap_push(ms.functions[item[3]].task_priority_queue, item)\n",
    "                print(f\"final processor task_allocation_queue is:\\n\"\n",
    "                      f\"{pr.task_allocation_queue}\")\n",
    "            while len(ms.common_ready_queue) != 0:\n",
    "                common_ready_queue_record = heap_pop(ms.common_ready_queue)\n",
    "                print(f\"pop common_ready_queue record {common_ready_queue_record} in handle new arrived\")\n",
    "                common_ready_queue_record[0], common_ready_queue_record[1] = common_ready_queue_record[1], common_ready_queue_record[0]\n",
    "                heap_push(ms.functions[common_ready_queue_record[3]].task_priority_queue, common_ready_queue_record)\n",
    "\n",
    "    while not task_priority_queues_is_empty(ms):\n",
    "        previous_round = current_round.copy()\n",
    "        current_round = []\n",
    "################ fill common ready queue ##################\n",
    "\n",
    "        for function_obj in ms.functions:\n",
    "            if function_obj.criticality < ms.criticality:\n",
    "                continue\n",
    "            criticality_slack = function_obj.criticality - ms.criticality\n",
    "            n_max = Function.get_n_max(criticality_slack)\n",
    "            cnt = n_max\n",
    "            while cnt != 0 and len(function_obj.task_priority_queue) != 0:\n",
    "                cnt -= 1\n",
    "                tuple_record = heap_pop(function_obj.task_priority_queue)\n",
    "                print(f'pop task priority queue: {tuple_record}')\n",
    "                tuple_record[0], tuple_record[1] = tuple_record[1], tuple_record[0]\n",
    "                heap_push(ms.common_ready_queue, tuple_record)\n",
    "                print(f'ms.common_ready_queue: {ms.common_ready_queue}')\n",
    "\n",
    "\n",
    "############# handle common ready queue ##############\n",
    "\n",
    "        while len(ms.common_ready_queue) != 0:\n",
    "            tuple_record = heap_pop(ms.common_ready_queue)\n",
    "            task_num, function_num = tuple_record[2], tuple_record[3]\n",
    "            min_EFT, suitable_processor = (min([ms.functions[function_num].get_EFT(task_num, k) for k in range(len(processors_list))]),\n",
    "                                           np.argmin([ms.functions[function_num].get_EFT(task_num, k) for k in range(len(processors_list))]))\n",
    "            tuple_record[0], tuple_record[1] = tuple_record[1], tuple_record[0]\n",
    "            print(f'trying to assign common_ready_queue record {tuple_record} to processor {suitable_processor}'\n",
    "                  f'function_number {function_num}, task_number {task_num}, min_EFT {min_EFT}, suitable_processor {suitable_processor}')\n",
    "            if min_EFT > ms.functions[function_num].get_task_abs_deadline(task_num) and ms.functions[function_num].criticality > ms.criticality:\n",
    "                ms.criticality = ms.functions[function_num].criticality\n",
    "                f_d = function_num\n",
    "                print(f'function that increases system criticality: {f_d}')\n",
    "\n",
    "############ remove from common ready queue and task allocation queue in current and previous round ##############\n",
    "\n",
    "                while len(ms.common_ready_queue) != 0:\n",
    "                    common_ready_queue_record = heap_pop(ms.common_ready_queue)\n",
    "                    print(f\"pop common_ready_queue record {common_ready_queue_record} in deadline miss event\")\n",
    "                    common_ready_queue_record[0], common_ready_queue_record[1] = common_ready_queue_record[1], common_ready_queue_record[0]\n",
    "                    heap_push(ms.functions[common_ready_queue_record[3]].task_priority_queue, common_ready_queue_record)\n",
    "                for round_record in previous_round + current_round:\n",
    "                    if system_time < round_record[4] and round_record in processors_list[round_record[6]].task_allocation_queue:\n",
    "                        print(f\"pop {round_record} from task_allocation_queue of {round_record[6]} in deadline miss event\")\n",
    "                        processors_list[round_record[6]].task_allocation_queue.remove(round_record)\n",
    "                        ms.functions[round_record[3]].AFT[round_record[2]] = None\n",
    "                        round_record[4], round_record[5], round_record[6] = None, None, None\n",
    "                        ms.functions[round_record[3]].assigned_processor[round_record[2]] = -1\n",
    "                        heap_push(ms.functions[round_record[3]].task_priority_queue, round_record)\n",
    "                        print(f\"push {round_record} into task_priority_queue of {round_record[3]} in deadline miss event\")\n",
    "                print(f\"failed to assign common_ready_queue record {tuple_record} to processor {suitable_processor}\")\n",
    "\n",
    "############ assign task to processor with min EFT ###############\n",
    "\n",
    "            else:\n",
    "                tuple_record[6] = suitable_processor # processor\n",
    "                tuple_record[5] = min_EFT  # AFT\n",
    "                tuple_record[4] = min_EFT - ms.functions[function_num].computation_cost[task_num][suitable_processor] # AST\n",
    "                processors_list[suitable_processor].task_allocation_queue.append(tuple_record)\n",
    "                ms.functions[tuple_record[3]].AFT[tuple_record[2]] = min_EFT\n",
    "                ms.functions[tuple_record[3]].assigned_processor[tuple_record[2]] = suitable_processor\n",
    "                current_round.append(tuple_record)\n",
    "\n",
    "                print(f\"successfully assign common_ready_queue record {tuple_record} to processor {suitable_processor}\")\n",
    "                if ms.is_fd_empty(f_d):\n",
    "                    print(f\"function {f_d} which cause system criticality to rise is finished\")\n",
    "                    f_d = -1\n",
    "                    ms.criticality = 0\n",
    "    if system_time == 125:\n",
    "        break\n",
    "    system_time += step"
   ],
   "metadata": {
    "collapsed": false,
    "pycharm": {
     "name": "#%%\n"
    }
   }
  },
  {
   "cell_type": "code",
   "execution_count": 61,
   "outputs": [
    {
     "name": "stdout",
     "output_type": "stream",
     "text": [
      "deque([[42.0, 1, 0, 2, 10, 22, 0], [44.0, 2, 0, 3, 22, 30, 0], [26.0, 1, 1, 2, 30, 43, 0]])\n",
      "deque([[47.83333333333333, 3, 0, 0, 0, 6, 1], [28.33333333333333, 3, 1, 0, 6, 18, 1], [10.666666666666666, 3, 2, 0, 18, 27, 1], [29.0, 2, 1, 3, 32.0, 39.0, 1]])\n",
      "deque([[79.33333333333333, 0, 0, 1, 0, 8, 2], [52.99999999999999, 0, 1, 1, 8, 23, 2], [14.333333333333334, 2, 2, 3, 41.0, 49.0, 2], [12.5, 1, 2, 2, 49.0, 56.0, 2], [21.333333333333332, 0, 2, 1, 23, 28, 2], [10.0, 0, 3, 1, 28.0, 41.0, 2]])\n"
     ]
    }
   ],
   "source": [
    "print(processors_list[0].task_allocation_queue)\n",
    "\n",
    "print(processors_list[1].task_allocation_queue)\n",
    "\n",
    "print(processors_list[2].task_allocation_queue)"
   ],
   "metadata": {
    "collapsed": false,
    "pycharm": {
     "name": "#%%\n"
    }
   }
  },
  {
   "cell_type": "code",
   "execution_count": null,
   "outputs": [],
   "source": [],
   "metadata": {
    "collapsed": false,
    "pycharm": {
     "name": "#%%\n"
    }
   }
  }
 ],
 "metadata": {
  "kernelspec": {
   "display_name": "Python 3",
   "language": "python",
   "name": "python3"
  },
  "language_info": {
   "codemirror_mode": {
    "name": "ipython",
    "version": 2
   },
   "file_extension": ".py",
   "mimetype": "text/x-python",
   "name": "python",
   "nbconvert_exporter": "python",
   "pygments_lexer": "ipython2",
   "version": "2.7.6"
  }
 },
 "nbformat": 4,
 "nbformat_minor": 0
}