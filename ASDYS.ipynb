{
 "cells": [
  {
   "cell_type": "code",
   "execution_count": 1,
   "metadata": {
    "collapsed": true
   },
   "outputs": [],
   "source": [
    "from collections import deque\n",
    "import numpy as np\n",
    "from queue import PriorityQueue\n",
    "from myheapq import _heapify_max, _heappop_max, _siftdown_max\n",
    "\n",
    "INFINITY = np.iinfo(np.int32).max"
   ]
  },
  {
   "cell_type": "code",
   "execution_count": 2,
   "outputs": [],
   "source": [
    "def heap_push(max_heap, item):\n",
    "    max_heap.append(item)\n",
    "    _siftdown_max(max_heap, 0, len(max_heap) - 1)\n",
    "\n",
    "def heap_pop(arr):\n",
    "    return _heappop_max(arr)  # Converts array to max_heap"
   ],
   "metadata": {
    "collapsed": false,
    "pycharm": {
     "name": "#%%\n"
    }
   }
  },
  {
   "cell_type": "code",
   "execution_count": 10,
   "outputs": [],
   "source": [
    "class Processor:\n",
    "    def __init__(self):\n",
    "        self.task_allocation_queue = deque()\n",
    "        self.avail = 0"
   ],
   "metadata": {
    "collapsed": false,
    "pycharm": {
     "name": "#%%\n"
    }
   }
  },
  {
   "cell_type": "code",
   "execution_count": 4,
   "outputs": [],
   "source": [
    "class Function:\n",
    "    def __init__(self, processors: list, n, criticality, communication_cost, computation_time, edges, arrival_time, deadline, lower_bound):\n",
    "        self.processors = processors\n",
    "        self.communication_cost = communication_cost\n",
    "        self.computation_cost = computation_time\n",
    "        self.edges = edges\n",
    "        self.task_priority_queue = []  # <function_number, number, rank_u, criticality>\n",
    "        self.criticality = criticality\n",
    "        self.upward_rank = np.zeros(n)\n",
    "        self.arrival_time = arrival_time\n",
    "        self.deadline = deadline\n",
    "        self.lower_bound = lower_bound\n",
    "        self.task_lower_bound = [(0, 0) for _ in range(n)]\n",
    "        self.AFT = np.zeros(n)\n",
    "\n",
    "    def get_EFT(self, task, k):\n",
    "        return self.get_EST(task, k) + self.computation_cost[task][k]\n",
    "\n",
    "    def get_EST(self, task, k):\n",
    "        return max(self.processors[k].avail, self.find_max_AFT_plus_comcost(task))\n",
    "\n",
    "    def find_max_AFT_plus_comcost(self, task):\n",
    "        candidate_max = 0\n",
    "        for pred_task in self.get_predecessor(task):\n",
    "            if candidate_max < self.AFT[pred_task] + self.communication_cost[pred_task][task]:\n",
    "                candidate_max = self.AFT[pred_task] + self.communication_cost[pred_task][task]\n",
    "        return candidate_max\n",
    "\n",
    "    def get_abs_deadline(self):\n",
    "        return self.arrival_time + self.deadline\n",
    "\n",
    "    def get_task_abs_deadline(self, task):\n",
    "        return self.arrival_time + self.calculate_lower_bound(task)[0] + self.get_deadline_slack()\n",
    "\n",
    "    def get_deadline_slack(self):\n",
    "        return self.deadline - self.lower_bound\n",
    "\n",
    "    def calculate_lower_bound(self, task):\n",
    "        if self.task_lower_bound[task][0] != 0:\n",
    "            return self.task_lower_bound[task]\n",
    "        if task == 0:\n",
    "            self.task_lower_bound[task] = (np.min(self.computation_cost[task]), np.argmin(self.computation_cost[task]))\n",
    "            return self.task_lower_bound[task]\n",
    "        previous_task_lower_bound = self.calculate_lower_bound(task - 1)\n",
    "        min_next_task = min(self.computation_cost[task][previous_task_lower_bound[1]], self.communication_cost[task - 1][task] + np.min(self.computation_cost[task]))\n",
    "        if min_next_task == self.computation_cost[task][previous_task_lower_bound[1]]:\n",
    "            min_processor = previous_task_lower_bound[1]\n",
    "        else:\n",
    "            min_processor = np.argmin(self.computation_cost[task])\n",
    "        self.task_lower_bound[task] = (previous_task_lower_bound[0] + min_next_task, min_processor)\n",
    "        return self.task_lower_bound[task]\n",
    "\n",
    "    def get_successor(self, task):\n",
    "        return list(np.where(self.edges[task] == 1)[0])\n",
    "\n",
    "    def get_predecessor(self, task):\n",
    "        return list(np.where(np.transpose(self.edges)[task] == 1)[0])\n",
    "\n",
    "    def get_average_computation_time(self, task):\n",
    "        avg = 0\n",
    "        count = 0\n",
    "        for wcet in self.computation_cost[task]:\n",
    "            if wcet != INFINITY:\n",
    "                avg = (avg * count + wcet) / (count + 1)\n",
    "                count += 1\n",
    "        return avg\n",
    "\n",
    "    def calculate_rank(self, task):\n",
    "        if self.upward_rank[task] != 0:\n",
    "            return self.upward_rank[task]\n",
    "\n",
    "        _max = self.find_max_successor_computation_time(task)\n",
    "\n",
    "        self.upward_rank[task] = self.get_average_computation_time(task) + _max\n",
    "        return self.upward_rank[task]\n",
    "\n",
    "    def find_max_successor_computation_time(self, task):\n",
    "        _max = 0\n",
    "        for successor_task in self.get_successor(task):\n",
    "            candidate_max = self.communication_cost[task][successor_task] + self.calculate_rank(successor_task)\n",
    "            if candidate_max > _max:\n",
    "                _max = candidate_max\n",
    "        return _max\n",
    "\n",
    "    @staticmethod\n",
    "    def get_n_max(criticality_slack):\n",
    "        return criticality_slack + 1\n",
    "\n",
    "    def add_to_priority_queue(self, function_num):\n",
    "        for task_num in range(len(self.upward_rank)):\n",
    "            heap_push(self.task_priority_queue, (self.upward_rank[task_num], self.criticality, task_num, function_num))\n",
    "            # self.task_priority_queue.put((self.upward_rank[task_num], self.criticality, task_num, function_num))"
   ],
   "metadata": {
    "collapsed": false,
    "pycharm": {
     "name": "#%%\n"
    }
   }
  },
  {
   "cell_type": "code",
   "execution_count": 5,
   "outputs": [],
   "source": [
    "class MS:\n",
    "    def __init__(self, functions: list, criticality):\n",
    "        self.functions = functions\n",
    "        self.common_ready_queue = []\n",
    "        self.criticality = criticality\n",
    "\n",
    "        function_num = 0\n",
    "        for function in functions:\n",
    "            function.calculate_rank(0)\n",
    "            function.add_to_priority_queue(function_num)\n",
    "            function.calculate_lower_bound(len(function.upward_rank) - 1)\n",
    "            function_num += 1"
   ],
   "metadata": {
    "collapsed": false,
    "pycharm": {
     "name": "#%%\n"
    }
   }
  },
  {
   "cell_type": "code",
   "execution_count": 6,
   "outputs": [],
   "source": [
    "processor_1 = Processor()\n",
    "processor_2 = Processor()\n",
    "processor_3 = Processor()\n",
    "processors_list = [processor_1, processor_2, processor_3]\n",
    "\n",
    "communication_cost_1 = np.array([[0, 11, 8],\n",
    "                                [11, 0, 6],\n",
    "                                [8, 6, 0]])\n",
    "computation_cost_1 = np.array([[INFINITY, 6, 11],\n",
    "                              [17, 12, 6],\n",
    "                              [13, 9, 10]])\n",
    "edges_1 = np.array([[0, 1, 1],\n",
    "                    [0, 0, 1],\n",
    "                    [0, 0, 0]])\n",
    "\n",
    "function_1 = Function(processors_list, n=3, criticality=3, communication_cost=communication_cost_1,\n",
    "                      computation_time=computation_cost_1, edges=edges_1, arrival_time=0, lower_bound=27, deadline=34)\n",
    "\n",
    "communication_cost_2 = np.array([[0, 3, 7],\n",
    "                                [3, 0, 2],\n",
    "                                [7, 2, 0]])\n",
    "computation_cost_2 = np.array([[12, 18, 9],\n",
    "                              [13, 10, INFINITY],\n",
    "                              [INFINITY, 18, 7]])\n",
    "edges_2 = np.array([[0, 1, 1],\n",
    "                    [0, 0, 1],\n",
    "                    [0, 0, 0]])\n",
    "\n",
    "function_2 = Function(processors_list, n=3, criticality=1, communication_cost=communication_cost_2,\n",
    "                      computation_time=computation_cost_2, edges=edges_2, arrival_time=10, lower_bound=31, deadline=46)\n",
    "\n",
    "functions_list = [function_1, function_2]\n",
    "ms = MS(functions=functions_list, criticality=0)"
   ],
   "metadata": {
    "collapsed": false,
    "pycharm": {
     "name": "#%%\n"
    }
   }
  },
  {
   "cell_type": "code",
   "execution_count": 7,
   "outputs": [
    {
     "name": "stdout",
     "output_type": "stream",
     "text": [
      "[47.83333333 28.33333333 10.66666667]\n",
      "[42.  26.  12.5]\n"
     ]
    }
   ],
   "source": [
    "print(function_1.upward_rank)\n",
    "print(function_2.upward_rank)\n",
    "\n",
    "\n",
    "# print(function_1.communication_cost[0][1])\n",
    "# print(function_1.task_lower_bound)\n",
    "# print(function_2.task_lower_bound)\n",
    "# print(function_2.get_task_abs_deadline(0))\n",
    "# print(function_1.get_predecessor(2))\n",
    "# np.min(function_1.computation_cost[1])\n",
    "# while function_1.task_priority_queue:\n",
    "#     print(heap_pop(function_1.task_priority_queue))"
   ],
   "metadata": {
    "collapsed": false,
    "pycharm": {
     "name": "#%%\n"
    }
   }
  },
  {
   "cell_type": "code",
   "execution_count": 8,
   "outputs": [],
   "source": [
    "def task_priority_queues_is_empty(task_priority_queues: list):\n",
    "    for task_priority_queue in task_priority_queues:\n",
    "        if len(task_priority_queue) != 0:\n",
    "            return False\n",
    "    return True"
   ],
   "metadata": {
    "collapsed": false,
    "pycharm": {
     "name": "#%%\n"
    }
   }
  },
  {
   "cell_type": "code",
   "execution_count": 9,
   "outputs": [
    {
     "data": {
      "text/plain": "[[(47.83333333333333, 3, 0, 0),\n  (28.33333333333333, 3, 1, 0),\n  (10.666666666666666, 3, 2, 0)],\n [(42.0, 1, 0, 1), (26.0, 1, 1, 1), (12.5, 1, 2, 1)]]"
     },
     "execution_count": 9,
     "metadata": {},
     "output_type": "execute_result"
    }
   ],
   "source": [
    "task_priority_queues = [function_obj.task_priority_queue for function_obj in functions_list]\n",
    "task_priority_queues"
   ],
   "metadata": {
    "collapsed": false,
    "pycharm": {
     "name": "#%%\n"
    }
   }
  },
  {
   "cell_type": "code",
   "execution_count": 43,
   "outputs": [
    {
     "ename": "AttributeError",
     "evalue": "'Function' object has no attribute 'f'",
     "output_type": "error",
     "traceback": [
      "\u001B[1;31m---------------------------------------------------------------------------\u001B[0m",
      "\u001B[1;31mAttributeError\u001B[0m                            Traceback (most recent call last)",
      "\u001B[1;32m~\\AppData\\Local\\Temp/ipykernel_12912/254190730.py\u001B[0m in \u001B[0;36m<module>\u001B[1;34m\u001B[0m\n\u001B[0;32m      1\u001B[0m \u001B[1;32mwhile\u001B[0m \u001B[1;32mnot\u001B[0m \u001B[0mtask_priority_queues_is_empty\u001B[0m\u001B[1;33m(\u001B[0m\u001B[0mtask_priority_queues\u001B[0m\u001B[1;33m)\u001B[0m\u001B[1;33m:\u001B[0m\u001B[1;33m\u001B[0m\u001B[1;33m\u001B[0m\u001B[0m\n\u001B[0;32m      2\u001B[0m     \u001B[1;32mfor\u001B[0m \u001B[0mfunction_obj\u001B[0m \u001B[1;32min\u001B[0m \u001B[0mms\u001B[0m\u001B[1;33m.\u001B[0m\u001B[0mfunctions\u001B[0m\u001B[1;33m:\u001B[0m\u001B[1;33m\u001B[0m\u001B[1;33m\u001B[0m\u001B[0m\n\u001B[1;32m----> 3\u001B[1;33m         \u001B[1;32mif\u001B[0m \u001B[0mfunction_obj\u001B[0m\u001B[1;33m.\u001B[0m\u001B[0mf\u001B[0m \u001B[1;33m<\u001B[0m \u001B[0mms\u001B[0m\u001B[1;33m.\u001B[0m\u001B[0mcriticality\u001B[0m\u001B[1;33m:\u001B[0m\u001B[1;33m\u001B[0m\u001B[1;33m\u001B[0m\u001B[0m\n\u001B[0m\u001B[0;32m      4\u001B[0m             \u001B[1;32mcontinue\u001B[0m\u001B[1;33m\u001B[0m\u001B[1;33m\u001B[0m\u001B[0m\n\u001B[0;32m      5\u001B[0m \u001B[1;33m\u001B[0m\u001B[0m\n",
      "\u001B[1;31mAttributeError\u001B[0m: 'Function' object has no attribute 'f'"
     ]
    }
   ],
   "source": [
    "while not task_priority_queues_is_empty(task_priority_queues):\n",
    "    for function_obj in ms.functions:\n",
    "        if function_obj.criticality < ms.criticality:\n",
    "            continue\n",
    "        criticality_slack = function_obj.criticality - ms.criticality\n",
    "        n_max = Function.get_n_max(criticality_slack)\n",
    "        cnt = n_max\n",
    "        while cnt != 0 and len(function_obj.task_priority_queue) != 0:\n",
    "            cnt -= 1\n",
    "            if len(function_obj.task_priority_queue) == 0:\n",
    "                break\n",
    "            tuple_record = heap_pop(function_obj.task_priority_queue)\n",
    "            print(f'pop task priority queue: {tuple_record}')\n",
    "            heap_push(ms.common_ready_queue, tuple_record)\n",
    "            print(f'ms.common_ready_queue: {ms.common_ready_queue}')\n",
    "\n",
    "    while len(ms.common_ready_queue) != 0:\n",
    "        tuple_record = heap_pop(ms.common_ready_queue)\n",
    "\n"
   ],
   "metadata": {
    "collapsed": false,
    "pycharm": {
     "name": "#%%\n"
    }
   }
  }
 ],
 "metadata": {
  "kernelspec": {
   "display_name": "Python 3",
   "language": "python",
   "name": "python3"
  },
  "language_info": {
   "codemirror_mode": {
    "name": "ipython",
    "version": 2
   },
   "file_extension": ".py",
   "mimetype": "text/x-python",
   "name": "python",
   "nbconvert_exporter": "python",
   "pygments_lexer": "ipython2",
   "version": "2.7.6"
  }
 },
 "nbformat": 4,
 "nbformat_minor": 0
}